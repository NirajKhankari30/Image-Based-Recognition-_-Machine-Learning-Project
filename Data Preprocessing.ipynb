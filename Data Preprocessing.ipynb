{
 "cells": [
  {
   "cell_type": "markdown",
   "metadata": {},
   "source": [
    "# IMAGE BASED RECOGNITION Project\n",
    "\n",
    "#### BY : NIRAJ KHANKARI"
   ]
  },
  {
   "cell_type": "markdown",
   "metadata": {
    "id": "iIDXUkMElkDd"
   },
   "source": [
    "# Data Preprocessing"
   ]
  },
  {
   "cell_type": "markdown",
   "metadata": {
    "id": "Hj40LjUilpix"
   },
   "source": [
    "## Importing the libraries"
   ]
  },
  {
   "cell_type": "code",
   "execution_count": 4,
   "metadata": {},
   "outputs": [],
   "source": [
    "import numpy as np\n",
    "import pandas as pd\n",
    "import matplotlib.pyplot as plt"
   ]
  },
  {
   "cell_type": "markdown",
   "metadata": {
    "id": "zApSnwUkl9eD"
   },
   "source": [
    "## Importing Dataset"
   ]
  },
  {
   "cell_type": "code",
   "execution_count": 6,
   "metadata": {},
   "outputs": [],
   "source": [
    "data_set = pd.read_excel(\"D:\\\\Niraj Khankari\\\\Unstop AI-ML Projects\\\\Image Based Recognition\\\\Data PreProcessing\\\\Covid_Data_new.xlsx\")\n",
    "a = data_set.iloc[:, :-1].values\n",
    "b = data_set.iloc[:,-1].values"
   ]
  },
  {
   "cell_type": "code",
   "execution_count": 8,
   "metadata": {},
   "outputs": [
    {
     "name": "stdout",
     "output_type": "stream",
     "text": [
      "     age body_temperature chronic_disease breathing_issue  \\\n",
      "0   10.0           Normal              no              no   \n",
      "1   12.0           Normal              no              no   \n",
      "2   15.0           Normal              no              no   \n",
      "3   10.0           Normal              no              no   \n",
      "4   13.0         Moderate              no              no   \n",
      "..   ...              ...             ...             ...   \n",
      "65  86.0             High              no             yes   \n",
      "66  61.0         Moderate              no             yes   \n",
      "67  94.0             High             yes             yes   \n",
      "68  81.0             High             yes             yes   \n",
      "69  76.0             High             yes             yes   \n",
      "\n",
      "    Blood O2 Level in Percentage Needed Hospitalization  \n",
      "0                           97.0                     No  \n",
      "1                           97.0                     No  \n",
      "2                           94.0                     No  \n",
      "3                           97.0                     No  \n",
      "4                           94.0                     No  \n",
      "..                           ...                    ...  \n",
      "65                          76.0                    Yes  \n",
      "66                          90.0                     No  \n",
      "67                          64.0                    Yes  \n",
      "68                          75.0                    Yes  \n",
      "69                          80.0                    Yes  \n",
      "\n",
      "[70 rows x 6 columns]\n"
     ]
    }
   ],
   "source": [
    "print(data_set)"
   ]
  },
  {
   "cell_type": "code",
   "execution_count": 10,
   "metadata": {},
   "outputs": [
    {
     "name": "stdout",
     "output_type": "stream",
     "text": [
      "[[10.0 'Normal' 'no' 'no' 97.0]\n",
      " [12.0 'Normal' 'no' 'no' 97.0]\n",
      " [15.0 'Normal' 'no' 'no' 94.0]\n",
      " [10.0 'Normal' 'no' 'no' 97.0]\n",
      " [13.0 'Moderate' 'no' 'no' 94.0]\n",
      " [12.0 'Moderate' 'no' 'no' 97.0]\n",
      " [13.0 'Moderate' 'no' 'no' 93.0]\n",
      " [15.0 'Moderate' 'no' 'no' 92.0]\n",
      " [18.0 'Moderate' 'no' 'no' 66.0]\n",
      " [19.0 'Normal' 'no' 'no' 92.0]\n",
      " [20.0 'Normal' 'no' 'no' 93.0]\n",
      " [17.0 'Normal' 'no' 'no' 93.0]\n",
      " [16.0 'Normal' 'no' 'no' 92.0]\n",
      " [18.0 'Normal' 'no' 'no' 93.0]\n",
      " [20.0 'Normal' 'no' 'no' 92.0]\n",
      " [25.0 'Moderate' 'no' 'no' 93.0]\n",
      " [24.0 'Moderate' 'no' 'no' 92.0]\n",
      " [26.0 'High' 'no' 'no' 94.0]\n",
      " [28.0 'Normal' 'no' 'no' 99.0]\n",
      " [29.0 'Normal' 'no' 'no' 93.0]\n",
      " [30.0 'Moderate' 'no' 'no' 62.0]\n",
      " [19.0 'Normal' 'no' 'no' 89.0]\n",
      " [25.0 'Normal' 'no' 'yes' 86.0]\n",
      " [26.0 'Normal' 'no' 'no' nan]\n",
      " [28.0 'Normal' 'no' 'no' 89.0]\n",
      " [30.0 'Moderate' 'yes' 'no' 86.0]\n",
      " [35.0 'Moderate' 'no' 'no' 89.0]\n",
      " [32.0 'Moderate' 'no' 'yes' 84.0]\n",
      " [nan 'Moderate' 'yes' 'no' 90.0]\n",
      " [32.0 'Moderate' 'no' 'no' 89.0]\n",
      " [35.0 'Moderate' 'no' 'yes' 92.0]\n",
      " [38.0 'High' 'no' 'no' 75.0]\n",
      " [40.0 'Moderate' 'no' 'yes' 90.0]\n",
      " [46.0 'High' 'yes' 'no' 91.0]\n",
      " [48.0 'Moderate' 'no' 'yes' 93.0]\n",
      " [42.0 'High' 'no' 'no' 92.0]\n",
      " [40.0 'High' 'no' 'no' 92.0]\n",
      " [49.0 'Moderate' 'no' 'no' 80.0]\n",
      " [50.0 'High' 'yes' 'yes' 77.0]\n",
      " [36.0 'High' 'yes' 'no' 90.0]\n",
      " [52.0 'High' 'yes' 'yes' 80.0]\n",
      " [56.0 'High' 'yes' 'yes' 77.0]\n",
      " [58.0 'High' 'no' 'no' 70.0]\n",
      " [59.0 'High' 'no' 'yes' 69.0]\n",
      " [60.0 'High' 'yes' 'yes' 68.0]\n",
      " [53.0 'High' 'yes' 'no' 55.0]\n",
      " [54.0 'High' 'yes' 'yes' 70.0]\n",
      " [62.0 'High' 'yes' 'yes' 68.0]\n",
      " [63.0 'High' 'yes' 'yes' 66.0]\n",
      " [68.0 'High' 'yes' 'no' 67.0]\n",
      " [69.0 'High' 'no' 'yes' 53.0]\n",
      " [64.0 'High' 'yes' 'yes' 73.0]\n",
      " [61.0 'High' 'yes' 'yes' 76.0]\n",
      " [70.0 'Normal' 'no' 'yes' 88.0]\n",
      " [59.0 'High' 'yes' 'no' 68.0]\n",
      " [62.0 'High' 'yes' 'yes' 69.0]\n",
      " [78.0 'High' 'yes' 'yes' 71.0]\n",
      " [74.0 'High' 'yes' 'yes' 75.0]\n",
      " [75.0 'High' 'no' 'yes' 72.0]\n",
      " [56.0 'High' 'yes' 'no' 76.0]\n",
      " [80.0 'High' 'no' 'yes' 92.0]\n",
      " [82.0 'High' 'yes' 'yes' 73.0]\n",
      " [86.0 'High' 'yes' 'yes' 71.0]\n",
      " [90.0 'High' 'yes' 'yes' 67.0]\n",
      " [84.0 'High' 'yes' 'yes' 75.0]\n",
      " [86.0 'High' 'no' 'yes' 76.0]\n",
      " [61.0 'Moderate' 'no' 'yes' 90.0]\n",
      " [94.0 'High' 'yes' 'yes' 64.0]\n",
      " [81.0 'High' 'yes' 'yes' 75.0]\n",
      " [76.0 'High' 'yes' 'yes' 80.0]]\n"
     ]
    }
   ],
   "source": [
    "print(a)"
   ]
  },
  {
   "cell_type": "code",
   "execution_count": 12,
   "metadata": {},
   "outputs": [
    {
     "name": "stdout",
     "output_type": "stream",
     "text": [
      "['No' 'No' 'No' 'No' 'No' 'No' 'No' 'No' 'Yes' 'No' 'No' 'No' 'No' 'No'\n",
      " 'No' 'No' 'No' 'No' 'No' 'No' 'Yes' 'No' 'No' 'No' 'No' 'No' 'No' 'No'\n",
      " 'No' 'No' 'No' 'Yes' 'No' 'No' 'No' 'No' 'No' 'Yes' 'Yes' 'No' 'Yes'\n",
      " 'Yes' 'Yes' 'Yes' 'Yes' 'Yes' 'Yes' 'Yes' 'Yes' 'Yes' 'Yes' 'Yes' 'Yes'\n",
      " 'No' 'Yes' 'Yes' 'Yes' 'Yes' 'Yes' 'Yes' 'No' 'Yes' 'Yes' 'Yes' 'Yes'\n",
      " 'Yes' 'No' 'Yes' 'Yes' 'Yes']\n"
     ]
    }
   ],
   "source": [
    "print(b)"
   ]
  },
  {
   "cell_type": "markdown",
   "metadata": {
    "id": "XaG0s7WjmgPU"
   },
   "source": [
    "\n",
    "\n",
    "\n",
    "## Handling Missing Data"
   ]
  },
  {
   "cell_type": "code",
   "execution_count": 14,
   "metadata": {},
   "outputs": [],
   "source": [
    "from sklearn.impute import SimpleImputer\n",
    "imputer = SimpleImputer(missing_values = np.nan , strategy='mean')\n",
    "\n",
    "imputer.fit(a[:, 0:1])\n",
    "a[:, 0:1] = imputer.transform(a[:, 0:1])"
   ]
  },
  {
   "cell_type": "code",
   "execution_count": 16,
   "metadata": {},
   "outputs": [
    {
     "name": "stdout",
     "output_type": "stream",
     "text": [
      "[[10.0 'Normal' 'no' 'no' 97.0]\n",
      " [12.0 'Normal' 'no' 'no' 97.0]\n",
      " [15.0 'Normal' 'no' 'no' 94.0]\n",
      " [10.0 'Normal' 'no' 'no' 97.0]\n",
      " [13.0 'Moderate' 'no' 'no' 94.0]\n",
      " [12.0 'Moderate' 'no' 'no' 97.0]\n",
      " [13.0 'Moderate' 'no' 'no' 93.0]\n",
      " [15.0 'Moderate' 'no' 'no' 92.0]\n",
      " [18.0 'Moderate' 'no' 'no' 66.0]\n",
      " [19.0 'Normal' 'no' 'no' 92.0]\n",
      " [20.0 'Normal' 'no' 'no' 93.0]\n",
      " [17.0 'Normal' 'no' 'no' 93.0]\n",
      " [16.0 'Normal' 'no' 'no' 92.0]\n",
      " [18.0 'Normal' 'no' 'no' 93.0]\n",
      " [20.0 'Normal' 'no' 'no' 92.0]\n",
      " [25.0 'Moderate' 'no' 'no' 93.0]\n",
      " [24.0 'Moderate' 'no' 'no' 92.0]\n",
      " [26.0 'High' 'no' 'no' 94.0]\n",
      " [28.0 'Normal' 'no' 'no' 99.0]\n",
      " [29.0 'Normal' 'no' 'no' 93.0]\n",
      " [30.0 'Moderate' 'no' 'no' 62.0]\n",
      " [19.0 'Normal' 'no' 'no' 89.0]\n",
      " [25.0 'Normal' 'no' 'yes' 86.0]\n",
      " [26.0 'Normal' 'no' 'no' nan]\n",
      " [28.0 'Normal' 'no' 'no' 89.0]\n",
      " [30.0 'Moderate' 'yes' 'no' 86.0]\n",
      " [35.0 'Moderate' 'no' 'no' 89.0]\n",
      " [32.0 'Moderate' 'no' 'yes' 84.0]\n",
      " [45.130434782608695 'Moderate' 'yes' 'no' 90.0]\n",
      " [32.0 'Moderate' 'no' 'no' 89.0]\n",
      " [35.0 'Moderate' 'no' 'yes' 92.0]\n",
      " [38.0 'High' 'no' 'no' 75.0]\n",
      " [40.0 'Moderate' 'no' 'yes' 90.0]\n",
      " [46.0 'High' 'yes' 'no' 91.0]\n",
      " [48.0 'Moderate' 'no' 'yes' 93.0]\n",
      " [42.0 'High' 'no' 'no' 92.0]\n",
      " [40.0 'High' 'no' 'no' 92.0]\n",
      " [49.0 'Moderate' 'no' 'no' 80.0]\n",
      " [50.0 'High' 'yes' 'yes' 77.0]\n",
      " [36.0 'High' 'yes' 'no' 90.0]\n",
      " [52.0 'High' 'yes' 'yes' 80.0]\n",
      " [56.0 'High' 'yes' 'yes' 77.0]\n",
      " [58.0 'High' 'no' 'no' 70.0]\n",
      " [59.0 'High' 'no' 'yes' 69.0]\n",
      " [60.0 'High' 'yes' 'yes' 68.0]\n",
      " [53.0 'High' 'yes' 'no' 55.0]\n",
      " [54.0 'High' 'yes' 'yes' 70.0]\n",
      " [62.0 'High' 'yes' 'yes' 68.0]\n",
      " [63.0 'High' 'yes' 'yes' 66.0]\n",
      " [68.0 'High' 'yes' 'no' 67.0]\n",
      " [69.0 'High' 'no' 'yes' 53.0]\n",
      " [64.0 'High' 'yes' 'yes' 73.0]\n",
      " [61.0 'High' 'yes' 'yes' 76.0]\n",
      " [70.0 'Normal' 'no' 'yes' 88.0]\n",
      " [59.0 'High' 'yes' 'no' 68.0]\n",
      " [62.0 'High' 'yes' 'yes' 69.0]\n",
      " [78.0 'High' 'yes' 'yes' 71.0]\n",
      " [74.0 'High' 'yes' 'yes' 75.0]\n",
      " [75.0 'High' 'no' 'yes' 72.0]\n",
      " [56.0 'High' 'yes' 'no' 76.0]\n",
      " [80.0 'High' 'no' 'yes' 92.0]\n",
      " [82.0 'High' 'yes' 'yes' 73.0]\n",
      " [86.0 'High' 'yes' 'yes' 71.0]\n",
      " [90.0 'High' 'yes' 'yes' 67.0]\n",
      " [84.0 'High' 'yes' 'yes' 75.0]\n",
      " [86.0 'High' 'no' 'yes' 76.0]\n",
      " [61.0 'Moderate' 'no' 'yes' 90.0]\n",
      " [94.0 'High' 'yes' 'yes' 64.0]\n",
      " [81.0 'High' 'yes' 'yes' 75.0]\n",
      " [76.0 'High' 'yes' 'yes' 80.0]]\n"
     ]
    }
   ],
   "source": [
    "print(a)"
   ]
  },
  {
   "cell_type": "code",
   "execution_count": 18,
   "metadata": {},
   "outputs": [],
   "source": [
    "imputer.fit(a[:, 4:5])\n",
    "a[:, 4:5] = imputer.transform(a[:, 4:5])"
   ]
  },
  {
   "cell_type": "code",
   "execution_count": 20,
   "metadata": {},
   "outputs": [
    {
     "name": "stdout",
     "output_type": "stream",
     "text": [
      "[[10.0 'Normal' 'no' 'no' 97.0]\n",
      " [12.0 'Normal' 'no' 'no' 97.0]\n",
      " [15.0 'Normal' 'no' 'no' 94.0]\n",
      " [10.0 'Normal' 'no' 'no' 97.0]\n",
      " [13.0 'Moderate' 'no' 'no' 94.0]\n",
      " [12.0 'Moderate' 'no' 'no' 97.0]\n",
      " [13.0 'Moderate' 'no' 'no' 93.0]\n",
      " [15.0 'Moderate' 'no' 'no' 92.0]\n",
      " [18.0 'Moderate' 'no' 'no' 66.0]\n",
      " [19.0 'Normal' 'no' 'no' 92.0]\n",
      " [20.0 'Normal' 'no' 'no' 93.0]\n",
      " [17.0 'Normal' 'no' 'no' 93.0]\n",
      " [16.0 'Normal' 'no' 'no' 92.0]\n",
      " [18.0 'Normal' 'no' 'no' 93.0]\n",
      " [20.0 'Normal' 'no' 'no' 92.0]\n",
      " [25.0 'Moderate' 'no' 'no' 93.0]\n",
      " [24.0 'Moderate' 'no' 'no' 92.0]\n",
      " [26.0 'High' 'no' 'no' 94.0]\n",
      " [28.0 'Normal' 'no' 'no' 99.0]\n",
      " [29.0 'Normal' 'no' 'no' 93.0]\n",
      " [30.0 'Moderate' 'no' 'no' 62.0]\n",
      " [19.0 'Normal' 'no' 'no' 89.0]\n",
      " [25.0 'Normal' 'no' 'yes' 86.0]\n",
      " [26.0 'Normal' 'no' 'no' 82.07246376811594]\n",
      " [28.0 'Normal' 'no' 'no' 89.0]\n",
      " [30.0 'Moderate' 'yes' 'no' 86.0]\n",
      " [35.0 'Moderate' 'no' 'no' 89.0]\n",
      " [32.0 'Moderate' 'no' 'yes' 84.0]\n",
      " [45.130434782608695 'Moderate' 'yes' 'no' 90.0]\n",
      " [32.0 'Moderate' 'no' 'no' 89.0]\n",
      " [35.0 'Moderate' 'no' 'yes' 92.0]\n",
      " [38.0 'High' 'no' 'no' 75.0]\n",
      " [40.0 'Moderate' 'no' 'yes' 90.0]\n",
      " [46.0 'High' 'yes' 'no' 91.0]\n",
      " [48.0 'Moderate' 'no' 'yes' 93.0]\n",
      " [42.0 'High' 'no' 'no' 92.0]\n",
      " [40.0 'High' 'no' 'no' 92.0]\n",
      " [49.0 'Moderate' 'no' 'no' 80.0]\n",
      " [50.0 'High' 'yes' 'yes' 77.0]\n",
      " [36.0 'High' 'yes' 'no' 90.0]\n",
      " [52.0 'High' 'yes' 'yes' 80.0]\n",
      " [56.0 'High' 'yes' 'yes' 77.0]\n",
      " [58.0 'High' 'no' 'no' 70.0]\n",
      " [59.0 'High' 'no' 'yes' 69.0]\n",
      " [60.0 'High' 'yes' 'yes' 68.0]\n",
      " [53.0 'High' 'yes' 'no' 55.0]\n",
      " [54.0 'High' 'yes' 'yes' 70.0]\n",
      " [62.0 'High' 'yes' 'yes' 68.0]\n",
      " [63.0 'High' 'yes' 'yes' 66.0]\n",
      " [68.0 'High' 'yes' 'no' 67.0]\n",
      " [69.0 'High' 'no' 'yes' 53.0]\n",
      " [64.0 'High' 'yes' 'yes' 73.0]\n",
      " [61.0 'High' 'yes' 'yes' 76.0]\n",
      " [70.0 'Normal' 'no' 'yes' 88.0]\n",
      " [59.0 'High' 'yes' 'no' 68.0]\n",
      " [62.0 'High' 'yes' 'yes' 69.0]\n",
      " [78.0 'High' 'yes' 'yes' 71.0]\n",
      " [74.0 'High' 'yes' 'yes' 75.0]\n",
      " [75.0 'High' 'no' 'yes' 72.0]\n",
      " [56.0 'High' 'yes' 'no' 76.0]\n",
      " [80.0 'High' 'no' 'yes' 92.0]\n",
      " [82.0 'High' 'yes' 'yes' 73.0]\n",
      " [86.0 'High' 'yes' 'yes' 71.0]\n",
      " [90.0 'High' 'yes' 'yes' 67.0]\n",
      " [84.0 'High' 'yes' 'yes' 75.0]\n",
      " [86.0 'High' 'no' 'yes' 76.0]\n",
      " [61.0 'Moderate' 'no' 'yes' 90.0]\n",
      " [94.0 'High' 'yes' 'yes' 64.0]\n",
      " [81.0 'High' 'yes' 'yes' 75.0]\n",
      " [76.0 'High' 'yes' 'yes' 80.0]]\n"
     ]
    }
   ],
   "source": [
    "print(a)"
   ]
  },
  {
   "cell_type": "code",
   "execution_count": 22,
   "metadata": {},
   "outputs": [],
   "source": [
    "# Another Slicing (without Separate Slicing) for Handling Missing Data\n",
    "\n",
    "from sklearn.impute import SimpleImputer\n",
    "imputer = SimpleImputer(missing_values = np.nan , strategy='mean')\n",
    "\n",
    "imputer.fit(a[:, 0:5:4])\n",
    "a[:, 0:5:4] = imputer.transform(a[:, 0:5:4])"
   ]
  },
  {
   "cell_type": "code",
   "execution_count": 24,
   "metadata": {},
   "outputs": [
    {
     "name": "stdout",
     "output_type": "stream",
     "text": [
      "[[10.0 'Normal' 'no' 'no' 97.0]\n",
      " [12.0 'Normal' 'no' 'no' 97.0]\n",
      " [15.0 'Normal' 'no' 'no' 94.0]\n",
      " [10.0 'Normal' 'no' 'no' 97.0]\n",
      " [13.0 'Moderate' 'no' 'no' 94.0]\n",
      " [12.0 'Moderate' 'no' 'no' 97.0]\n",
      " [13.0 'Moderate' 'no' 'no' 93.0]\n",
      " [15.0 'Moderate' 'no' 'no' 92.0]\n",
      " [18.0 'Moderate' 'no' 'no' 66.0]\n",
      " [19.0 'Normal' 'no' 'no' 92.0]\n",
      " [20.0 'Normal' 'no' 'no' 93.0]\n",
      " [17.0 'Normal' 'no' 'no' 93.0]\n",
      " [16.0 'Normal' 'no' 'no' 92.0]\n",
      " [18.0 'Normal' 'no' 'no' 93.0]\n",
      " [20.0 'Normal' 'no' 'no' 92.0]\n",
      " [25.0 'Moderate' 'no' 'no' 93.0]\n",
      " [24.0 'Moderate' 'no' 'no' 92.0]\n",
      " [26.0 'High' 'no' 'no' 94.0]\n",
      " [28.0 'Normal' 'no' 'no' 99.0]\n",
      " [29.0 'Normal' 'no' 'no' 93.0]\n",
      " [30.0 'Moderate' 'no' 'no' 62.0]\n",
      " [19.0 'Normal' 'no' 'no' 89.0]\n",
      " [25.0 'Normal' 'no' 'yes' 86.0]\n",
      " [26.0 'Normal' 'no' 'no' 82.07246376811594]\n",
      " [28.0 'Normal' 'no' 'no' 89.0]\n",
      " [30.0 'Moderate' 'yes' 'no' 86.0]\n",
      " [35.0 'Moderate' 'no' 'no' 89.0]\n",
      " [32.0 'Moderate' 'no' 'yes' 84.0]\n",
      " [45.130434782608695 'Moderate' 'yes' 'no' 90.0]\n",
      " [32.0 'Moderate' 'no' 'no' 89.0]\n",
      " [35.0 'Moderate' 'no' 'yes' 92.0]\n",
      " [38.0 'High' 'no' 'no' 75.0]\n",
      " [40.0 'Moderate' 'no' 'yes' 90.0]\n",
      " [46.0 'High' 'yes' 'no' 91.0]\n",
      " [48.0 'Moderate' 'no' 'yes' 93.0]\n",
      " [42.0 'High' 'no' 'no' 92.0]\n",
      " [40.0 'High' 'no' 'no' 92.0]\n",
      " [49.0 'Moderate' 'no' 'no' 80.0]\n",
      " [50.0 'High' 'yes' 'yes' 77.0]\n",
      " [36.0 'High' 'yes' 'no' 90.0]\n",
      " [52.0 'High' 'yes' 'yes' 80.0]\n",
      " [56.0 'High' 'yes' 'yes' 77.0]\n",
      " [58.0 'High' 'no' 'no' 70.0]\n",
      " [59.0 'High' 'no' 'yes' 69.0]\n",
      " [60.0 'High' 'yes' 'yes' 68.0]\n",
      " [53.0 'High' 'yes' 'no' 55.0]\n",
      " [54.0 'High' 'yes' 'yes' 70.0]\n",
      " [62.0 'High' 'yes' 'yes' 68.0]\n",
      " [63.0 'High' 'yes' 'yes' 66.0]\n",
      " [68.0 'High' 'yes' 'no' 67.0]\n",
      " [69.0 'High' 'no' 'yes' 53.0]\n",
      " [64.0 'High' 'yes' 'yes' 73.0]\n",
      " [61.0 'High' 'yes' 'yes' 76.0]\n",
      " [70.0 'Normal' 'no' 'yes' 88.0]\n",
      " [59.0 'High' 'yes' 'no' 68.0]\n",
      " [62.0 'High' 'yes' 'yes' 69.0]\n",
      " [78.0 'High' 'yes' 'yes' 71.0]\n",
      " [74.0 'High' 'yes' 'yes' 75.0]\n",
      " [75.0 'High' 'no' 'yes' 72.0]\n",
      " [56.0 'High' 'yes' 'no' 76.0]\n",
      " [80.0 'High' 'no' 'yes' 92.0]\n",
      " [82.0 'High' 'yes' 'yes' 73.0]\n",
      " [86.0 'High' 'yes' 'yes' 71.0]\n",
      " [90.0 'High' 'yes' 'yes' 67.0]\n",
      " [84.0 'High' 'yes' 'yes' 75.0]\n",
      " [86.0 'High' 'no' 'yes' 76.0]\n",
      " [61.0 'Moderate' 'no' 'yes' 90.0]\n",
      " [94.0 'High' 'yes' 'yes' 64.0]\n",
      " [81.0 'High' 'yes' 'yes' 75.0]\n",
      " [76.0 'High' 'yes' 'yes' 80.0]]\n"
     ]
    }
   ],
   "source": [
    "print(a)"
   ]
  },
  {
   "cell_type": "markdown",
   "metadata": {
    "id": "o0syRbsSmkoe"
   },
   "source": [
    "## Encoding Categorical Data"
   ]
  },
  {
   "cell_type": "markdown",
   "metadata": {
    "id": "alHfpomamsVr"
   },
   "source": [
    "### Encoding independent variables"
   ]
  },
  {
   "cell_type": "code",
   "execution_count": 28,
   "metadata": {},
   "outputs": [],
   "source": [
    "from sklearn.compose import ColumnTransformer\n",
    "from sklearn.preprocessing import OneHotEncoder"
   ]
  },
  {
   "cell_type": "code",
   "execution_count": 36,
   "metadata": {},
   "outputs": [],
   "source": [
    "ct = ColumnTransformer(transformers =[('encoder',OneHotEncoder(),[1])],remainder = 'passthrough')\n",
    "a = np.array(ct.fit_transform(a))"
   ]
  },
  {
   "cell_type": "code",
   "execution_count": 38,
   "metadata": {},
   "outputs": [
    {
     "name": "stdout",
     "output_type": "stream",
     "text": [
      "[[0.0 0.0 1.0 10.0 'no' 'no' 97.0]\n",
      " [0.0 0.0 1.0 12.0 'no' 'no' 97.0]\n",
      " [0.0 0.0 1.0 15.0 'no' 'no' 94.0]\n",
      " [0.0 0.0 1.0 10.0 'no' 'no' 97.0]\n",
      " [0.0 1.0 0.0 13.0 'no' 'no' 94.0]\n",
      " [0.0 1.0 0.0 12.0 'no' 'no' 97.0]\n",
      " [0.0 1.0 0.0 13.0 'no' 'no' 93.0]\n",
      " [0.0 1.0 0.0 15.0 'no' 'no' 92.0]\n",
      " [0.0 1.0 0.0 18.0 'no' 'no' 66.0]\n",
      " [0.0 0.0 1.0 19.0 'no' 'no' 92.0]\n",
      " [0.0 0.0 1.0 20.0 'no' 'no' 93.0]\n",
      " [0.0 0.0 1.0 17.0 'no' 'no' 93.0]\n",
      " [0.0 0.0 1.0 16.0 'no' 'no' 92.0]\n",
      " [0.0 0.0 1.0 18.0 'no' 'no' 93.0]\n",
      " [0.0 0.0 1.0 20.0 'no' 'no' 92.0]\n",
      " [0.0 1.0 0.0 25.0 'no' 'no' 93.0]\n",
      " [0.0 1.0 0.0 24.0 'no' 'no' 92.0]\n",
      " [1.0 0.0 0.0 26.0 'no' 'no' 94.0]\n",
      " [0.0 0.0 1.0 28.0 'no' 'no' 99.0]\n",
      " [0.0 0.0 1.0 29.0 'no' 'no' 93.0]\n",
      " [0.0 1.0 0.0 30.0 'no' 'no' 62.0]\n",
      " [0.0 0.0 1.0 19.0 'no' 'no' 89.0]\n",
      " [0.0 0.0 1.0 25.0 'no' 'yes' 86.0]\n",
      " [0.0 0.0 1.0 26.0 'no' 'no' 82.07246376811594]\n",
      " [0.0 0.0 1.0 28.0 'no' 'no' 89.0]\n",
      " [0.0 1.0 0.0 30.0 'yes' 'no' 86.0]\n",
      " [0.0 1.0 0.0 35.0 'no' 'no' 89.0]\n",
      " [0.0 1.0 0.0 32.0 'no' 'yes' 84.0]\n",
      " [0.0 1.0 0.0 45.130434782608695 'yes' 'no' 90.0]\n",
      " [0.0 1.0 0.0 32.0 'no' 'no' 89.0]\n",
      " [0.0 1.0 0.0 35.0 'no' 'yes' 92.0]\n",
      " [1.0 0.0 0.0 38.0 'no' 'no' 75.0]\n",
      " [0.0 1.0 0.0 40.0 'no' 'yes' 90.0]\n",
      " [1.0 0.0 0.0 46.0 'yes' 'no' 91.0]\n",
      " [0.0 1.0 0.0 48.0 'no' 'yes' 93.0]\n",
      " [1.0 0.0 0.0 42.0 'no' 'no' 92.0]\n",
      " [1.0 0.0 0.0 40.0 'no' 'no' 92.0]\n",
      " [0.0 1.0 0.0 49.0 'no' 'no' 80.0]\n",
      " [1.0 0.0 0.0 50.0 'yes' 'yes' 77.0]\n",
      " [1.0 0.0 0.0 36.0 'yes' 'no' 90.0]\n",
      " [1.0 0.0 0.0 52.0 'yes' 'yes' 80.0]\n",
      " [1.0 0.0 0.0 56.0 'yes' 'yes' 77.0]\n",
      " [1.0 0.0 0.0 58.0 'no' 'no' 70.0]\n",
      " [1.0 0.0 0.0 59.0 'no' 'yes' 69.0]\n",
      " [1.0 0.0 0.0 60.0 'yes' 'yes' 68.0]\n",
      " [1.0 0.0 0.0 53.0 'yes' 'no' 55.0]\n",
      " [1.0 0.0 0.0 54.0 'yes' 'yes' 70.0]\n",
      " [1.0 0.0 0.0 62.0 'yes' 'yes' 68.0]\n",
      " [1.0 0.0 0.0 63.0 'yes' 'yes' 66.0]\n",
      " [1.0 0.0 0.0 68.0 'yes' 'no' 67.0]\n",
      " [1.0 0.0 0.0 69.0 'no' 'yes' 53.0]\n",
      " [1.0 0.0 0.0 64.0 'yes' 'yes' 73.0]\n",
      " [1.0 0.0 0.0 61.0 'yes' 'yes' 76.0]\n",
      " [0.0 0.0 1.0 70.0 'no' 'yes' 88.0]\n",
      " [1.0 0.0 0.0 59.0 'yes' 'no' 68.0]\n",
      " [1.0 0.0 0.0 62.0 'yes' 'yes' 69.0]\n",
      " [1.0 0.0 0.0 78.0 'yes' 'yes' 71.0]\n",
      " [1.0 0.0 0.0 74.0 'yes' 'yes' 75.0]\n",
      " [1.0 0.0 0.0 75.0 'no' 'yes' 72.0]\n",
      " [1.0 0.0 0.0 56.0 'yes' 'no' 76.0]\n",
      " [1.0 0.0 0.0 80.0 'no' 'yes' 92.0]\n",
      " [1.0 0.0 0.0 82.0 'yes' 'yes' 73.0]\n",
      " [1.0 0.0 0.0 86.0 'yes' 'yes' 71.0]\n",
      " [1.0 0.0 0.0 90.0 'yes' 'yes' 67.0]\n",
      " [1.0 0.0 0.0 84.0 'yes' 'yes' 75.0]\n",
      " [1.0 0.0 0.0 86.0 'no' 'yes' 76.0]\n",
      " [0.0 1.0 0.0 61.0 'no' 'yes' 90.0]\n",
      " [1.0 0.0 0.0 94.0 'yes' 'yes' 64.0]\n",
      " [1.0 0.0 0.0 81.0 'yes' 'yes' 75.0]\n",
      " [1.0 0.0 0.0 76.0 'yes' 'yes' 80.0]]\n"
     ]
    }
   ],
   "source": [
    "print(a)"
   ]
  },
  {
   "cell_type": "markdown",
   "metadata": {
    "id": "VEJCi9Fgmz-n"
   },
   "source": [
    "### Encoding dependent variables"
   ]
  },
  {
   "cell_type": "code",
   "execution_count": 41,
   "metadata": {},
   "outputs": [],
   "source": [
    "from sklearn.preprocessing import LabelEncoder\n",
    "le = LabelEncoder()\n",
    "b = le.fit_transform(b)"
   ]
  },
  {
   "cell_type": "code",
   "execution_count": 43,
   "metadata": {},
   "outputs": [
    {
     "name": "stdout",
     "output_type": "stream",
     "text": [
      "[0 0 0 0 0 0 0 0 1 0 0 0 0 0 0 0 0 0 0 0 1 0 0 0 0 0 0 0 0 0 0 1 0 0 0 0 0\n",
      " 1 1 0 1 1 1 1 1 1 1 1 1 1 1 1 1 0 1 1 1 1 1 1 0 1 1 1 1 1 0 1 1 1]\n"
     ]
    }
   ],
   "source": [
    "print(b)"
   ]
  },
  {
   "cell_type": "markdown",
   "metadata": {
    "id": "Bfz9vcDsm7r6"
   },
   "source": [
    "## Splitting data into Test set & Training Set\n"
   ]
  },
  {
   "cell_type": "code",
   "execution_count": 59,
   "metadata": {},
   "outputs": [],
   "source": [
    "from sklearn.model_selection import train_test_split\n",
    "a_train, a_test, b_train, b_test = train_test_split(a, b, test_size = 0.3, random_state = 42) "
   ]
  },
  {
   "cell_type": "code",
   "execution_count": 61,
   "metadata": {},
   "outputs": [
    {
     "name": "stdout",
     "output_type": "stream",
     "text": [
      "[[0.0 1.0 0.0 48.0 'no' 'yes' 93.0]\n",
      " [1.0 0.0 0.0 58.0 'no' 'no' 70.0]\n",
      " [0.0 1.0 0.0 45.130434782608695 'yes' 'no' 90.0]\n",
      " [0.0 1.0 0.0 15.0 'no' 'no' 92.0]\n",
      " [0.0 0.0 1.0 70.0 'no' 'yes' 88.0]\n",
      " [1.0 0.0 0.0 52.0 'yes' 'yes' 80.0]\n",
      " [1.0 0.0 0.0 60.0 'yes' 'yes' 68.0]\n",
      " [1.0 0.0 0.0 54.0 'yes' 'yes' 70.0]\n",
      " [0.0 0.0 1.0 29.0 'no' 'no' 93.0]\n",
      " [1.0 0.0 0.0 78.0 'yes' 'yes' 71.0]\n",
      " [1.0 0.0 0.0 36.0 'yes' 'no' 90.0]\n",
      " [0.0 1.0 0.0 30.0 'yes' 'no' 86.0]\n",
      " [1.0 0.0 0.0 50.0 'yes' 'yes' 77.0]\n",
      " [0.0 0.0 1.0 18.0 'no' 'no' 93.0]\n",
      " [1.0 0.0 0.0 69.0 'no' 'yes' 53.0]\n",
      " [0.0 0.0 1.0 10.0 'no' 'no' 97.0]\n",
      " [1.0 0.0 0.0 26.0 'no' 'no' 94.0]\n",
      " [0.0 1.0 0.0 18.0 'no' 'no' 66.0]\n",
      " [1.0 0.0 0.0 62.0 'yes' 'yes' 69.0]\n",
      " [0.0 1.0 0.0 13.0 'no' 'no' 93.0]\n",
      " [1.0 0.0 0.0 40.0 'no' 'no' 92.0]\n",
      " [1.0 0.0 0.0 84.0 'yes' 'yes' 75.0]\n",
      " [1.0 0.0 0.0 76.0 'yes' 'yes' 80.0]\n",
      " [1.0 0.0 0.0 81.0 'yes' 'yes' 75.0]\n",
      " [0.0 1.0 0.0 25.0 'no' 'no' 93.0]\n",
      " [0.0 1.0 0.0 32.0 'no' 'yes' 84.0]\n",
      " [1.0 0.0 0.0 56.0 'yes' 'yes' 77.0]\n",
      " [0.0 1.0 0.0 35.0 'no' 'no' 89.0]\n",
      " [1.0 0.0 0.0 63.0 'yes' 'yes' 66.0]\n",
      " [0.0 0.0 1.0 28.0 'no' 'no' 89.0]\n",
      " [1.0 0.0 0.0 56.0 'yes' 'no' 76.0]\n",
      " [1.0 0.0 0.0 90.0 'yes' 'yes' 67.0]\n",
      " [0.0 0.0 1.0 17.0 'no' 'no' 93.0]\n",
      " [0.0 1.0 0.0 40.0 'no' 'yes' 90.0]\n",
      " [0.0 1.0 0.0 61.0 'no' 'yes' 90.0]\n",
      " [1.0 0.0 0.0 82.0 'yes' 'yes' 73.0]\n",
      " [0.0 1.0 0.0 49.0 'no' 'no' 80.0]\n",
      " [0.0 1.0 0.0 32.0 'no' 'no' 89.0]\n",
      " [1.0 0.0 0.0 59.0 'no' 'yes' 69.0]\n",
      " [1.0 0.0 0.0 86.0 'no' 'yes' 76.0]\n",
      " [0.0 0.0 1.0 12.0 'no' 'no' 97.0]\n",
      " [1.0 0.0 0.0 61.0 'yes' 'yes' 76.0]\n",
      " [0.0 0.0 1.0 19.0 'no' 'no' 89.0]\n",
      " [0.0 0.0 1.0 15.0 'no' 'no' 94.0]\n",
      " [0.0 0.0 1.0 26.0 'no' 'no' 82.07246376811594]\n",
      " [0.0 1.0 0.0 30.0 'no' 'no' 62.0]\n",
      " [1.0 0.0 0.0 80.0 'no' 'yes' 92.0]\n",
      " [0.0 0.0 1.0 20.0 'no' 'no' 92.0]\n",
      " [1.0 0.0 0.0 64.0 'yes' 'yes' 73.0]]\n"
     ]
    }
   ],
   "source": [
    "print(a_train)"
   ]
  },
  {
   "cell_type": "code",
   "execution_count": 63,
   "metadata": {},
   "outputs": [
    {
     "name": "stdout",
     "output_type": "stream",
     "text": [
      "[[0.0 0.0 1.0 25.0 'no' 'yes' 86.0]\n",
      " [0.0 0.0 1.0 10.0 'no' 'no' 97.0]\n",
      " [1.0 0.0 0.0 68.0 'yes' 'no' 67.0]\n",
      " [0.0 1.0 0.0 13.0 'no' 'no' 94.0]\n",
      " [1.0 0.0 0.0 59.0 'yes' 'no' 68.0]\n",
      " [0.0 0.0 1.0 28.0 'no' 'no' 99.0]\n",
      " [0.0 0.0 1.0 20.0 'no' 'no' 93.0]\n",
      " [1.0 0.0 0.0 46.0 'yes' 'no' 91.0]\n",
      " [1.0 0.0 0.0 53.0 'yes' 'no' 55.0]\n",
      " [0.0 0.0 1.0 16.0 'no' 'no' 92.0]\n",
      " [1.0 0.0 0.0 38.0 'no' 'no' 75.0]\n",
      " [0.0 0.0 1.0 19.0 'no' 'no' 92.0]\n",
      " [1.0 0.0 0.0 94.0 'yes' 'yes' 64.0]\n",
      " [0.0 1.0 0.0 12.0 'no' 'no' 97.0]\n",
      " [1.0 0.0 0.0 86.0 'yes' 'yes' 71.0]\n",
      " [0.0 1.0 0.0 35.0 'no' 'yes' 92.0]\n",
      " [1.0 0.0 0.0 75.0 'no' 'yes' 72.0]\n",
      " [1.0 0.0 0.0 42.0 'no' 'no' 92.0]\n",
      " [1.0 0.0 0.0 74.0 'yes' 'yes' 75.0]\n",
      " [1.0 0.0 0.0 62.0 'yes' 'yes' 68.0]\n",
      " [0.0 1.0 0.0 24.0 'no' 'no' 92.0]]\n"
     ]
    }
   ],
   "source": [
    "print(a_test)"
   ]
  },
  {
   "cell_type": "code",
   "execution_count": 65,
   "metadata": {},
   "outputs": [
    {
     "name": "stdout",
     "output_type": "stream",
     "text": [
      "[0 1 0 0 0 1 1 1 0 1 0 0 1 0 1 0 0 1 1 0 0 1 1 1 0 0 1 0 1 0 1 1 0 0 0 1 1\n",
      " 0 1 1 0 1 0 0 0 1 0 0 1]\n"
     ]
    }
   ],
   "source": [
    "print(b_train)"
   ]
  },
  {
   "cell_type": "code",
   "execution_count": 67,
   "metadata": {},
   "outputs": [
    {
     "name": "stdout",
     "output_type": "stream",
     "text": [
      "[0 0 1 0 1 0 0 0 1 0 1 0 1 0 1 0 1 0 1 1 0]\n"
     ]
    }
   ],
   "source": [
    "print(b_test)"
   ]
  },
  {
   "cell_type": "markdown",
   "metadata": {
    "id": "a5uoHf8MsQG0"
   },
   "source": [
    "## Feature Scaling"
   ]
  },
  {
   "cell_type": "code",
   "execution_count": 69,
   "metadata": {},
   "outputs": [],
   "source": [
    "from sklearn.preprocessing import StandardScaler\n",
    "sc = StandardScaler()\n",
    "a_train[:, 6:] = sc.fit_transform(a_train[:, 6:])\n",
    "a_test[:, 6:] = sc.fit_transform(a_test[:, 6:])\n"
   ]
  },
  {
   "cell_type": "code",
   "execution_count": 73,
   "metadata": {},
   "outputs": [
    {
     "name": "stdout",
     "output_type": "stream",
     "text": [
      "[[0.0 1.0 0.0 48.0 'no' 'yes' 1.0271875232971308]\n",
      " [1.0 0.0 0.0 58.0 'no' 'no' -1.1011113063145193]\n",
      " [0.0 1.0 0.0 45.130434782608695 'yes' 'no' 0.7495833281303939]\n",
      " [0.0 1.0 0.0 15.0 'no' 'no' 0.9346527915748851]\n",
      " [0.0 0.0 1.0 70.0 'no' 'yes' 0.5645138646859025]\n",
      " [1.0 0.0 0.0 52.0 'yes' 'yes' -0.17576398909206273]\n",
      " [1.0 0.0 0.0 60.0 'yes' 'yes' -1.2861807697590106]\n",
      " [1.0 0.0 0.0 54.0 'yes' 'yes' -1.1011113063145193]\n",
      " [0.0 0.0 1.0 29.0 'no' 'no' 1.0271875232971308]\n",
      " [1.0 0.0 0.0 78.0 'yes' 'yes' -1.0085765745922737]\n",
      " [1.0 0.0 0.0 36.0 'yes' 'no' 0.7495833281303939]\n",
      " [0.0 1.0 0.0 30.0 'yes' 'no' 0.3794444012414112]\n",
      " [1.0 0.0 0.0 50.0 'yes' 'yes' -0.4533681842587997]\n",
      " [0.0 0.0 1.0 18.0 'no' 'no' 1.0271875232971308]\n",
      " [1.0 0.0 0.0 69.0 'no' 'yes' -2.6742017455926956]\n",
      " [0.0 0.0 1.0 10.0 'no' 'no' 1.3973264501861133]\n",
      " [1.0 0.0 0.0 26.0 'no' 'no' 1.1197222550193764]\n",
      " [0.0 1.0 0.0 18.0 'no' 'no' -1.471250233203502]\n",
      " [1.0 0.0 0.0 62.0 'yes' 'yes' -1.1936460380367648]\n",
      " [0.0 1.0 0.0 13.0 'no' 'no' 1.0271875232971308]\n",
      " [1.0 0.0 0.0 40.0 'no' 'no' 0.9346527915748851]\n",
      " [1.0 0.0 0.0 84.0 'yes' 'yes' -0.638437647703291]\n",
      " [1.0 0.0 0.0 76.0 'yes' 'yes' -0.17576398909206273]\n",
      " [1.0 0.0 0.0 81.0 'yes' 'yes' -0.638437647703291]\n",
      " [0.0 1.0 0.0 25.0 'no' 'no' 1.0271875232971308]\n",
      " [0.0 1.0 0.0 32.0 'no' 'yes' 0.1943749377969199]\n",
      " [1.0 0.0 0.0 56.0 'yes' 'yes' -0.4533681842587997]\n",
      " [0.0 1.0 0.0 35.0 'no' 'no' 0.6570485964081482]\n",
      " [1.0 0.0 0.0 63.0 'yes' 'yes' -1.471250233203502]\n",
      " [0.0 0.0 1.0 28.0 'no' 'no' 0.6570485964081482]\n",
      " [1.0 0.0 0.0 56.0 'yes' 'no' -0.5459029159810453]\n",
      " [1.0 0.0 0.0 90.0 'yes' 'yes' -1.3787155014812562]\n",
      " [0.0 0.0 1.0 17.0 'no' 'no' 1.0271875232971308]\n",
      " [0.0 1.0 0.0 40.0 'no' 'yes' 0.7495833281303939]\n",
      " [0.0 1.0 0.0 61.0 'no' 'yes' 0.7495833281303939]\n",
      " [1.0 0.0 0.0 82.0 'yes' 'yes' -0.8235071111477823]\n",
      " [0.0 1.0 0.0 49.0 'no' 'no' -0.17576398909206273]\n",
      " [0.0 1.0 0.0 32.0 'no' 'no' 0.6570485964081482]\n",
      " [1.0 0.0 0.0 59.0 'no' 'yes' -1.1936460380367648]\n",
      " [1.0 0.0 0.0 86.0 'no' 'yes' -0.5459029159810453]\n",
      " [0.0 0.0 1.0 12.0 'no' 'no' 1.3973264501861133]\n",
      " [1.0 0.0 0.0 61.0 'yes' 'yes' -0.5459029159810453]\n",
      " [0.0 0.0 1.0 19.0 'no' 'no' 0.6570485964081482]\n",
      " [0.0 0.0 1.0 15.0 'no' 'no' 1.1197222550193764]\n",
      " [0.0 0.0 1.0 26.0 'no' 'no' 0.016010889694619907]\n",
      " [0.0 1.0 0.0 30.0 'no' 'no' -1.8413891600924845]\n",
      " [1.0 0.0 0.0 80.0 'no' 'yes' 0.9346527915748851]\n",
      " [0.0 0.0 1.0 20.0 'no' 'no' 0.9346527915748851]\n",
      " [1.0 0.0 0.0 64.0 'yes' 'yes' -0.8235071111477823]]\n"
     ]
    }
   ],
   "source": [
    "print(a_train)"
   ]
  },
  {
   "cell_type": "code",
   "execution_count": 75,
   "metadata": {},
   "outputs": [
    {
     "name": "stdout",
     "output_type": "stream",
     "text": [
      "[[0.0 0.0 1.0 25.0 'no' 'yes' 0.269688899543265]\n",
      " [0.0 0.0 1.0 10.0 'no' 'no' 1.1115555994688637]\n",
      " [1.0 0.0 0.0 68.0 'yes' 'no' -1.1844444912373147]\n",
      " [0.0 1.0 0.0 13.0 'no' 'no' 0.8819555903982459]\n",
      " [1.0 0.0 0.0 59.0 'yes' 'no' -1.1079111548804421]\n",
      " [0.0 0.0 1.0 28.0 'no' 'no' 1.264622272182609]\n",
      " [0.0 0.0 1.0 20.0 'no' 'no' 0.8054222540413734]\n",
      " [1.0 0.0 0.0 46.0 'yes' 'no' 0.652355581327628]\n",
      " [1.0 0.0 0.0 53.0 'yes' 'no' -2.1028445275197862]\n",
      " [0.0 0.0 1.0 16.0 'no' 'no' 0.7288889176845007]\n",
      " [1.0 0.0 0.0 38.0 'no' 'no' -0.5721778003823338]\n",
      " [0.0 0.0 1.0 19.0 'no' 'no' 0.7288889176845007]\n",
      " [1.0 0.0 0.0 94.0 'yes' 'yes' -1.4140445003079325]\n",
      " [0.0 1.0 0.0 12.0 'no' 'no' 1.1115555994688637]\n",
      " [1.0 0.0 0.0 86.0 'yes' 'yes' -0.8783111458098243]\n",
      " [0.0 1.0 0.0 35.0 'no' 'yes' 0.7288889176845007]\n",
      " [1.0 0.0 0.0 75.0 'no' 'yes' -0.8017778094529516]\n",
      " [1.0 0.0 0.0 42.0 'no' 'no' 0.7288889176845007]\n",
      " [1.0 0.0 0.0 74.0 'yes' 'yes' -0.5721778003823338]\n",
      " [1.0 0.0 0.0 62.0 'yes' 'yes' -1.1079111548804421]\n",
      " [0.0 1.0 0.0 24.0 'no' 'no' 0.7288889176845007]]\n"
     ]
    }
   ],
   "source": [
    "print(a_test)"
   ]
  },
  {
   "cell_type": "code",
   "execution_count": null,
   "metadata": {},
   "outputs": [],
   "source": []
  }
 ],
 "metadata": {
  "colab": {
   "authorship_tag": "ABX9TyMojhScvfhNEf0PB0SFUBgo",
   "name": "Data Preprocessing Template.ipynb",
   "provenance": [],
   "toc_visible": true
  },
  "kernelspec": {
   "display_name": "Python 3 (ipykernel)",
   "language": "python",
   "name": "python3"
  },
  "language_info": {
   "codemirror_mode": {
    "name": "ipython",
    "version": 3
   },
   "file_extension": ".py",
   "mimetype": "text/x-python",
   "name": "python",
   "nbconvert_exporter": "python",
   "pygments_lexer": "ipython3",
   "version": "3.12.4"
  }
 },
 "nbformat": 4,
 "nbformat_minor": 4
}
